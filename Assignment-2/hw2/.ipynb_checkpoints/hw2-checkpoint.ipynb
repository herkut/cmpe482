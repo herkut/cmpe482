{
 "cells": [
  {
   "cell_type": "markdown",
   "metadata": {
    "collapsed": true,
    "deletable": true,
    "editable": true
   },
   "source": [
    "# Homework 2"
   ]
  },
  {
   "cell_type": "markdown",
   "metadata": {
    "deletable": true,
    "editable": true
   },
   "source": [
    "a) "
   ]
  },
  {
   "cell_type": "markdown",
   "metadata": {
    "collapsed": true,
    "deletable": true,
    "editable": true
   },
   "source": [
    "Assume $ \\lVert \\mathbf{x} \\rVert_{\\infty} \\le \\lVert \\mathbf{x} \\rVert_{2} $, $ \\lVert \\mathbf{x} \\rVert_{\\infty} = \\max_{1 \\leq i \\leq 4}\\lvert x_{i}\\rvert $, this equation is greater than or equal to 0.\n",
    "$ \\lVert \\mathbf{x} \\rVert_{2} = (\\sum_{i=1}^{} \\lvert x_{i} \\rvert^2  )^{1/2} $, this equation is also greater than or equal to 0. Therefore, taking power of these equation does not affect relationship between them.\n",
    "$$ \n",
    "\\lVert \\mathbf{x} \\rVert_{\\infty} \\le \n",
    "\\lVert \\mathbf{x} \\rVert_{2} \n",
    "\\implies\n",
    "\\lVert \\mathbf{x} \\rVert^2_{\\infty} \\le \n",
    "\\lVert \\mathbf{x} \\rVert^2_{2} \n",
    "$$\n",
    "$$\n",
    "x_{max}^2 \\le\n",
    "\\sum_{i=1}^{m} \\lvert x_{i} \\rvert ^2 \n",
    "$$\n",
    "This inequality is obviously true so our assumption is correct."
   ]
  },
  {
   "cell_type": "markdown",
   "metadata": {},
   "source": [
    "Assume m = 4. Vector x= [4, 0, 0, 0] satisfies the equality in 3.3.a: \n",
    "$$\\lVert \\mathbf{x} \\rVert_{\\infty} = \\max_{1 \\leq j \\leq 4}\\lvert x_{j}\\rvert$$ $$\\lVert \\mathbf{x} \\rVert_{\\infty} = 4$$\n",
    "$$\\lVert \\mathbf{x} \\rVert_{2} = (\\sum_{i=1}^{4} \\lvert x_{i} \\rvert^2 )^{1/2} = \\sqrt (4^2+0^2+0^2+0^2) = 4$$\n",
    "$$\\lVert \\mathbf{x} \\rVert_{\\infty} = \\lVert \\mathbf{x} \\rVert_{2}$$"
   ]
  },
  {
   "cell_type": "markdown",
   "metadata": {},
   "source": [
    "b)"
   ]
  },
  {
   "cell_type": "markdown",
   "metadata": {},
   "source": [
    "Assume $ \\lVert \\mathbf{x} \\rVert_{2} \\le \\sqrt m \\lVert \\mathbf{x} \\rVert_{\\infty} $, $ \\lVert \\mathbf{x} \\rVert_{\\infty} = \\max_{1 \\leq i \\leq 4}\\lvert x_{i}\\rvert $, this equation is greater than or equal to 0.\n",
    "$ \\lVert \\mathbf{x} \\rVert_{2} = (\\sum_{i=1}^{} \\lvert x_{i} \\rvert^2  )^{1/2} $, this equation is also greater than or equal to 0. Therefore, taking power of these equation does not affect relationship between them.\n",
    "$$ \n",
    "\\lVert \\mathbf{x} \\rVert_{2} \\le \n",
    "\\sqrt m \\lVert \\mathbf{x} \\rVert_{2} \n",
    "\\implies\n",
    "\\lVert \\mathbf{x} \\rVert^2_{2} \\le \n",
    "m \\lVert \\mathbf{x} \\rVert^2_{2} \n",
    "$$\n",
    "$$\n",
    "\\sum_{i=1}^{m} \\lvert x_{i} \\rvert ^2 \\le \n",
    "m x_{max}^2\n",
    "$$\n",
    "This inequality is obviously true so our assumption is correct."
   ]
  },
  {
   "cell_type": "markdown",
   "metadata": {},
   "source": [
    "Assume m = 4. Vector x = [1, 1, 1, 1] satisfies the equality in 3.3.b: \n",
    "$$\\sqrt 4 \\lVert \\mathbf{x} \\rVert_{\\infty} = 2\\max_{1 \\leq j \\leq 4}\\lvert x_{j}\\rvert$$ $$\\lVert \\mathbf{x} \\rVert_{\\infty} = 2$$\n",
    "$$\\lVert \\mathbf{x} \\rVert_{2} = (\\sum_{i=1}^{4} \\lvert x_{i} \\rvert ^2 )^{1/2} = \\sqrt(1^2+1^2+1^2+1^2) = 2$$\n",
    "$$\\sqrt m \\lVert \\mathbf{x} \\rVert_{\\infty} = \\lVert \\mathbf{x} \\rVert_{2}$$"
   ]
  },
  {
   "cell_type": "markdown",
   "metadata": {},
   "source": [
    "c)"
   ]
  },
  {
   "cell_type": "markdown",
   "metadata": {},
   "source": [
    "Let $x \\in R^n_\\infty$. We know that $ \\lVert \\mathbf{y} \\rVert_{\\infty} \\le \\lVert \\mathbf{y} \\rVert_{2} \\le \\sqrt(n) \\lVert \\mathbf{y} \\rVert_{\\infty} $ for all $ y \\in R^n$, so\n",
    "$$ \n",
    "\\lVert \\mathbf{A(x)} \\rVert_{\\infty} \\le \n",
    "\\lVert \\mathbf{A(x)} \\rVert_{2} \\le \n",
    "\\lVert \\mathbf{A} \\rVert_{2} \\lVert \\mathbf{x} \\rVert_{2} \\le \n",
    "\\lVert \\mathbf{A} \\rVert_{2} \\sqrt n \\lVert \\mathbf{x} \\rVert_{\\infty} \n",
    "$$\n",
    "Since $ x \\in R^n_{\\infty} $ is arbitrary\n",
    "$$\n",
    "\\lVert \\mathbf{A} \\rVert_{\\infty} \\le \n",
    "\\sqrt n \\lVert \\mathbf{A} \\rVert_{2}\n",
    "$$"
   ]
  },
  {
   "cell_type": "markdown",
   "metadata": {},
   "source": []
  },
  {
   "cell_type": "markdown",
   "metadata": {},
   "source": [
    "d)"
   ]
  },
  {
   "cell_type": "markdown",
   "metadata": {},
   "source": []
  },
  {
   "cell_type": "markdown",
   "metadata": {},
   "source": []
  }
 ],
 "metadata": {
  "kernelspec": {
   "display_name": "Octave",
   "language": "octave",
   "name": "octave"
  },
  "language_info": {
   "file_extension": ".m",
   "help_links": [
    {
     "text": "GNU Octave",
     "url": "https://www.gnu.org/software/octave/support.html"
    },
    {
     "text": "Octave Kernel",
     "url": "https://github.com/Calysto/octave_kernel"
    },
    {
     "text": "MetaKernel Magics",
     "url": "https://github.com/calysto/metakernel/blob/master/metakernel/magics/README.md"
    }
   ],
   "mimetype": "text/x-octave",
   "name": "octave",
   "version": "4.0.0"
  }
 },
 "nbformat": 4,
 "nbformat_minor": 2
}
