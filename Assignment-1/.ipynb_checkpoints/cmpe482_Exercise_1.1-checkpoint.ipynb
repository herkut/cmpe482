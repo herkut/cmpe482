{
 "cells": [
  {
   "cell_type": "markdown",
   "metadata": {
    "collapsed": true,
    "deletable": true,
    "editable": true
   },
   "source": [
    "# Exercise 1.1"
   ]
  },
  {
   "cell_type": "raw",
   "metadata": {
    "deletable": true,
    "editable": true,
    "hidePrompt": false
   },
   "source": [
    "a)"
   ]
  },
  {
   "cell_type": "code",
   "execution_count": 1,
   "metadata": {
    "collapsed": false,
    "deletable": true,
    "editable": true,
    "hideCode": false,
    "hideOutput": false,
    "hidePrompt": false
   },
   "outputs": [
    {
     "data": {
      "text/latex": [
       "\\begin{equation}\n",
       "    \\begin{bmatrix}\n",
       "        1 & -1 & 0 & 0 \\\\\n",
       "        0 & 1 & 0 & 0 \\\\\n",
       "        0 & -1 & 1 & 0 \\\\\n",
       "        0 & -1 & 0 & 1\n",
       "    \\end{bmatrix}\n",
       "    \\times\n",
       "    \\begin{bmatrix}\n",
       "        1 & 0 & 1 & 0 \\\\\n",
       "        0 & 1 & 0 & 0 \\\\\n",
       "        0 & 0 & 1 & 0 \\\\\n",
       "        0 & 0 & 0 & 1\n",
       "    \\end{bmatrix}\n",
       "    \\times\n",
       "    \\begin{bmatrix}\n",
       "        1 & 0 & 0 & 0 \\\\\n",
       "        0 & 1 & 0 & 0 \\\\\n",
       "        0 & 0 & 1/2 & 0 \\\\\n",
       "        0 & 0 & 0 & 1\n",
       "    \\end{bmatrix}\n",
       "    \\times\n",
       "    B\n",
       "    \\times\n",
       "    \\begin{bmatrix}\n",
       "        2 & 0 & 0 & 0 \\\\\n",
       "        0 & 1 & 0 & 0 \\\\\n",
       "        0 & 0 & 1 & 0 \\\\\n",
       "        0 & 0 & 0 & 1\n",
       "    \\end{bmatrix}\n",
       "    \\times\n",
       "    \\begin{bmatrix}\n",
       "        0 & 0 & 0 & 1 \\\\\n",
       "        0 & 1 & 0 & 0 \\\\\n",
       "        0 & 0 & 1 & 0 \\\\\n",
       "        1 & 0 & 0 & 0\n",
       "    \\end{bmatrix}\n",
       "    \\times\n",
       "    \\begin{bmatrix}\n",
       "        1 & 0 & 0 & 0 \\\\\n",
       "        0 & 1 & 0 & 0 \\\\\n",
       "        0 & 0 & 0 & 0 \\\\\n",
       "        0 & 0 & 1 & 1\n",
       "    \\end{bmatrix}\n",
       "    \\times\n",
       "    \\begin{bmatrix}\n",
       "        1 & 0 & 0 \\\\\n",
       "        0 & 1 & 0 \\\\\n",
       "        0 & 0 & 1 \\\\\n",
       "        0 & 0 & 0\n",
       "    \\end{bmatrix}\n",
       "\\end{equation}"
      ],
      "text/plain": [
       "<IPython.core.display.Latex object>"
      ]
     },
     "metadata": {},
     "output_type": "display_data"
    }
   ],
   "source": []
  },
  {
   "cell_type": "raw",
   "metadata": {
    "deletable": true,
    "editable": true
   },
   "source": [
    "b)"
   ]
  },
  {
   "cell_type": "code",
   "execution_count": 2,
   "metadata": {
    "collapsed": false,
    "deletable": true,
    "editable": true,
    "hideCode": false,
    "scrolled": true
   },
   "outputs": [
    {
     "data": {
      "text/latex": [
       "\\begin{equation}\n",
       "    \\begin{bmatrix}\n",
       "        1 & -1 & 1/2 & 0 \\\\\n",
       "        0 & 1 & 0 & 0 \\\\\n",
       "        0 & -1 & 1/2 & 0 \\\\\n",
       "        0 & -1 & 0 & 1\n",
       "    \\end{bmatrix}\n",
       "    \\times\n",
       "    B\n",
       "    \\times\n",
       "    \\begin{bmatrix}\n",
       "        0 & 0 & 2 \\\\\n",
       "        0 & 1 & 0 \\\\\n",
       "        0 & 0 & 0 \\\\\n",
       "        0 & 0 & 1\n",
       "    \\end{bmatrix}\n",
       "\\end{equation}"
      ],
      "text/plain": [
       "<IPython.core.display.Latex object>"
      ]
     },
     "metadata": {},
     "output_type": "display_data"
    }
   ],
   "source": []
  },
  {
   "cell_type": "markdown",
   "metadata": {
    "deletable": true,
    "editable": true
   },
   "source": [
    "                                                                                                    Hamdi Erkut\n",
    "                                                                                                    ⁠⁠⁠2016700210"
   ]
  }
 ],
 "metadata": {
  "celltoolbar": "Hide code",
  "kernelspec": {
   "display_name": "Python 3",
   "language": "python",
   "name": "python3"
  },
  "language_info": {
   "codemirror_mode": {
    "name": "ipython",
    "version": 3
   },
   "file_extension": ".py",
   "mimetype": "text/x-python",
   "name": "python",
   "nbconvert_exporter": "python",
   "pygments_lexer": "ipython3",
   "version": "3.6.0"
  }
 },
 "nbformat": 4,
 "nbformat_minor": 2
}
