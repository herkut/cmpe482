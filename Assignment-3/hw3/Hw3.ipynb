{
 "cells": [
  {
   "cell_type": "markdown",
   "metadata": {},
   "source": [
    "3.6.a)"
   ]
  },
  {
   "cell_type": "markdown",
   "metadata": {},
   "source": [
    "To prove that $||.||'$ is a norm, we should prove followings:<br>\n",
    "1)$||x||' \\ge 0 \\& ||x||' = 0 \\iff x=0$<br>\n",
    "2)$||x+y|| \\le ||x|| + ||y||$<br>\n",
    "3)$||\\alpha x|| = |\\alpha|||x||$<br>\n",
    "-It is obvious that $||x||' \\ge 0$, when it comes to show that $||x||' = 0 $ only if $x=0$<br>\n",
    "$sup_{||y||=1}|y^*x| = sup_{||y||=1}\\sum\\limits_{i}^m |y_i^*x_i|$<br>\n",
    "$sup_{||y||=1}\\sum\\limits_{i}^m |y_i^*x_i| = 0$ only if $x = 0$, $y \\ne 0$ because we are given $||y|| = 1$\n",
    "\n",
    "-$||x_1+x_2||' = sup_{||y||=1}|y^*(x_1+x_2)| \\le sup_{||y||=1}|y^*x_1+y^*x_2| \\le sup_{||y||=1}|y^*x_1|+sup_{||y||=1}|y^*x_2|=||x_1||'+||x_2||'$ <br>\n",
    "\n",
    "-for any $\\alpha$, $||\\alpha x|| = sup_{||y||=1}|y*(\\alpha x)| = sup_{||y||=1}|\\alpha||y*x| = |\\alpha||y*x|$"
   ]
  },
  {
   "cell_type": "markdown",
   "metadata": {},
   "source": [
    "4.5"
   ]
  },
  {
   "cell_type": "markdown",
   "metadata": {},
   "source": [
    "Let us define $\\sigma_i = \\sqrt \\lambda_i$ and $u_i = \\frac{Av_i}{\\sigma_i}$ (i = 1,2,...,r). Then ${u_1,u_2,...,u_r}$ is an orthogonal set of vectors:<br>\n",
    "$u_i^*u_j = \\frac{(Av_i)(Av_j)}{\\sigma_i \\sigma_j} = \\frac{v_i^*(A^*A)v_j}{\\sqrt{\\lambda_i \\lambda_j}}=\\frac{\\lambda_jv_i^*v_j}{\\sqrt{\\lambda_i \\lambda_j}}=\\delta_{ij}$\n",
    "The set ${u_1,...,u_r}$ can be expanded to be orthogonal basis for $\\mathbb{R}^m: \\{u_1,...,u_r,...u_m\\}$. Define $U = [u_1,...,u_m]$. We check  $U^*AV$ is a diagonal matrix:\n",
    "$U^*AV = \\begin{matrix}u_1^* \\\\ ... \\\\ u_m^* \\end{matrix}A[v_1,...v_n] = (u_i^*Av_j)$, and $u_i^*Av_i=\n",
    "\\begin{cases}\n",
    "0  & \\text{if}\\ j \\gt r \\\\ \n",
    "\\sigma_i \\delta_{ij} & \\text{if}\\ j \\le r \n",
    "\\end{cases}$\n",
    "\n",
    "This shows $U^*AV$ is a (rectangular) diagonal matrix Σ. So A has a real SVD $A = UΣV^*$. "
   ]
  },
  {
   "cell_type": "code",
   "execution_count": null,
   "metadata": {
    "collapsed": true
   },
   "outputs": [],
   "source": []
  }
 ],
 "metadata": {
  "kernelspec": {
   "display_name": "Octave",
   "language": "octave",
   "name": "octave"
  },
  "language_info": {
   "file_extension": ".m",
   "help_links": [
    {
     "text": "GNU Octave",
     "url": "https://www.gnu.org/software/octave/support.html"
    },
    {
     "text": "Octave Kernel",
     "url": "https://github.com/Calysto/octave_kernel"
    },
    {
     "text": "MetaKernel Magics",
     "url": "https://github.com/calysto/metakernel/blob/master/metakernel/magics/README.md"
    }
   ],
   "mimetype": "text/x-octave",
   "name": "octave",
   "version": "4.0.0"
  }
 },
 "nbformat": 4,
 "nbformat_minor": 2
}
